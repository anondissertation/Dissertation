{
 "cells": [
  {
   "cell_type": "code",
   "execution_count": 1,
   "metadata": {},
   "outputs": [],
   "source": [
    "import pandas as pd"
   ]
  },
  {
   "cell_type": "code",
   "execution_count": 2,
   "metadata": {},
   "outputs": [],
   "source": [
    "learners = ['OLS'] #['RF', 'AML']\n",
    "nuisances = ['y_hat', 'y0_hat', 'y1_hat', 'p_hat']\n",
    "scores_l = [\"T\", \"F\", \"U\", \"D\"]"
   ]
  },
  {
   "cell_type": "code",
   "execution_count": 3,
   "metadata": {},
   "outputs": [],
   "source": [
    "def calc_T(y1_hat, y0_hat):\n",
    "    return y1_hat - y0_hat"
   ]
  },
  {
   "cell_type": "code",
   "execution_count": 4,
   "metadata": {},
   "outputs": [],
   "source": [
    "def calc_F(y, D, p_hat):\n",
    "    return y * (D - p_hat) / p_hat / (1-p_hat)"
   ]
  },
  {
   "cell_type": "code",
   "execution_count": 5,
   "metadata": {},
   "outputs": [],
   "source": [
    "def calc_U(y, D, y_hat, p_hat):\n",
    "    return (y - y_hat) / (D - p_hat)"
   ]
  },
  {
   "cell_type": "code",
   "execution_count": 6,
   "metadata": {},
   "outputs": [],
   "source": [
    "def calc_D(y, D, y0_hat, y1_hat, p_hat):\n",
    "    return y1_hat - y0_hat + D * (y - y1_hat) / p_hat - (1-D) * (y - y0_hat) / (1-p_hat)"
   ]
  },
  {
   "cell_type": "code",
   "execution_count": 8,
   "metadata": {},
   "outputs": [],
   "source": [
    "for knob in range(9):\n",
    "    for dataset in range(10):\n",
    "        estimates = {learner:pd.DataFrame(index=range(47684), columns=nuisances) for learner in learners}\n",
    "        scores = {learner:pd.DataFrame(index=range(47684), columns=scores_l) for learner in learners}\n",
    "        df = pd.read_csv(\"C:/DISSERTATION/Data/dataset_\"+str(knob)+str(dataset)+\".csv\", index_col=0)\n",
    "        for learner in learners:\n",
    "            for nuisance in nuisances:\n",
    "                estimates[learner][nuisance] = pd.read_csv(\"C:/DISSERTATION/Results/\"+learner+\"/\"+nuisance+\"/dataset_\"+str(knob)+str(dataset)+\".csv\", index_col=0)\n",
    "            estimates[learner]['p_hat'] = estimates[learner]['p_hat'].apply(lambda x: max(0.01, x))\n",
    "            scores[learner][\"T\"] = calc_T(estimates[learner][\"y1_hat\"], estimates[learner][\"y0_hat\"])\n",
    "            scores[learner][\"F\"] = calc_F(df['y'], df['D'], estimates[learner]['p_hat'])\n",
    "            scores[learner][\"U\"] = calc_U(df['y'], df['D'], estimates[learner]['y_hat'], estimates[learner]['p_hat'])\n",
    "            scores[learner][\"D\"] = calc_D(df['y'], df['D'], estimates[learner]['y0_hat'], estimates[learner]['y1_hat'], estimates[learner]['p_hat'])\n",
    "            scores[learner].to_csv(\"C:/DISSERTATION/Results/\"+learner+\"/scores/dataset_\"+str(knob)+str(dataset)+\".csv\")"
   ]
  },
  {
   "cell_type": "code",
   "execution_count": null,
   "metadata": {},
   "outputs": [],
   "source": []
  }
 ],
 "metadata": {
  "kernelspec": {
   "display_name": "Python 3",
   "language": "python",
   "name": "python3"
  },
  "language_info": {
   "codemirror_mode": {
    "name": "ipython",
    "version": 3
   },
   "file_extension": ".py",
   "mimetype": "text/x-python",
   "name": "python",
   "nbconvert_exporter": "python",
   "pygments_lexer": "ipython3",
   "version": "3.7.6"
  }
 },
 "nbformat": 4,
 "nbformat_minor": 4
}

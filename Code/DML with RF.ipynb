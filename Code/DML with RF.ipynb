{
 "cells": [
  {
   "cell_type": "code",
   "execution_count": 1,
   "metadata": {},
   "outputs": [],
   "source": [
    "import numpy as np\n",
    "import pandas as pd\n",
    "from sklearn.ensemble import RandomForestClassifier, RandomForestRegressor\n",
    "import doubleml as dml\n",
    "from tqdm.notebook import tqdm"
   ]
  },
  {
   "cell_type": "code",
   "execution_count": 3,
   "metadata": {},
   "outputs": [],
   "source": [
    "X = pd.read_csv(\"C:/_Dissertation/Datasets/X_nt_normalised.csv\", index_col=0)"
   ]
  },
  {
   "cell_type": "code",
   "execution_count": 4,
   "metadata": {},
   "outputs": [
    {
     "data": {
      "application/vnd.jupyter.widget-view+json": {
       "model_id": "cabcd4ac4c834440979169af17688816",
       "version_major": 2,
       "version_minor": 0
      },
      "text/plain": [
       "HBox(children=(FloatProgress(value=0.0, max=10.0), HTML(value='')))"
      ]
     },
     "metadata": {},
     "output_type": "display_data"
    },
    {
     "name": "stdout",
     "output_type": "stream",
     "text": [
      "\n",
      "\n",
      "Wall time: 3h 8min 19s\n"
     ]
    },
    {
     "name": "stderr",
     "output_type": "stream",
     "text": [
      "C:\\Programming\\Anaconda\\lib\\site-packages\\pandas\\core\\indexing.py:670: SettingWithCopyWarning: \n",
      "A value is trying to be set on a copy of a slice from a DataFrame\n",
      "\n",
      "See the caveats in the documentation: https://pandas.pydata.org/pandas-docs/stable/user_guide/indexing.html#returning-a-view-versus-a-copy\n",
      "  self._setitem_with_indexer(indexer, value)\n"
     ]
    }
   ],
   "source": [
    "%%time\n",
    "for knob in range(9):\n",
    "    knob_RF_results = pd.DataFrame(index=range(10), columns=[\"true_ate\", \"summary\", \"all_coef\", \"all_se\"])\n",
    "    for dataset in tqdm(range(10)):\n",
    "        df = pd.read_csv(\"C:/_Dissertation/Datasets/knob_\"+str(knob)+\"/dataset_\"+str(dataset)+\".csv\", index_col=0)\n",
    "        ite = df['ite']\n",
    "        y = df['y']\n",
    "        D = df['D']\n",
    "        data = X.copy()\n",
    "        data['y'] = y\n",
    "        data['D'] = D\n",
    "        dml_data = dml.DoubleMLData(data=data, y_col='y', d_cols='D')\n",
    "        g_estimator = RandomForestRegressor()\n",
    "        m_estimator = RandomForestClassifier()\n",
    "        dml_model = dml.DoubleMLIRM(dml_data, g_estimator, m_estimator, n_folds=5, n_rep=10, trimming_threshold=0.01)\n",
    "        dml_model.fit(n_jobs_cv=3, store_predictions=True)\n",
    "        knob_RF_results.loc[dataset] = ite.mean(), dml_model.summary, dml_model.all_coef, dml_model.all_se\n",
    "        y_0_hat = dml_model.predictions['ml_g0'][:, :, 0].mean(axis=1)\n",
    "        y_1_hat = dml_model.predictions['ml_g1'][:, :, 0].mean(axis=1)\n",
    "        p_hat = dml_model.predictions['ml_m'][:, :, 0].mean(axis=1)\n",
    "        preds = pd.DataFrame(columns=['y0hat', 'y1hat', 'phat'])\n",
    "        preds['y0hat'] = y_0_hat\n",
    "        preds['y1hat'] = y_1_hat\n",
    "        preds['phat'] = p_hat\n",
    "        preds.to_csv(\"C:/_Dissertation/Results/DML RF new/knob_\"+str(knob)+\"_dataset_\"+str(dataset)+\".csv\")\n",
    "    results = pd.DataFrame(columns=range(20))\n",
    "    results['true_ate'] = knob_RF_results['true_ate']\n",
    "    for column in knob_RF_results['summary'].loc[0].columns:\n",
    "        results[column] = [x[0] for x in [df[column].values for df in knob_RF_results['summary']]]\n",
    "    for estimate in range(10):\n",
    "        for dataset in range(10):\n",
    "            results[estimate].loc[dataset] = knob_RF_results['all_coef'].loc[dataset][0][estimate]\n",
    "            results[estimate+10].loc[dataset] = knob_RF_results['all_se'].loc[dataset][0][estimate]\n",
    "    results.to_csv(\"C:/_Dissertation/Results/DML RF new/knob_\"+str(knob)+\"_ATE.csv\")"
   ]
  },
  {
   "cell_type": "code",
   "execution_count": null,
   "metadata": {},
   "outputs": [],
   "source": []
  }
 ],
 "metadata": {
  "kernelspec": {
   "display_name": "Python 3",
   "language": "python",
   "name": "python3"
  },
  "language_info": {
   "codemirror_mode": {
    "name": "ipython",
    "version": 3
   },
   "file_extension": ".py",
   "mimetype": "text/x-python",
   "name": "python",
   "nbconvert_exporter": "python",
   "pygments_lexer": "ipython3",
   "version": "3.7.6"
  }
 },
 "nbformat": 4,
 "nbformat_minor": 4
}

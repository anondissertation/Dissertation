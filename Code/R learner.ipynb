{
  "nbformat": 4,
  "nbformat_minor": 0,
  "metadata": {
    "colab": {
      "name": "R-learner fitting.ipynb",
      "provenance": [],
      "machine_shape": "hm"
    },
    "kernelspec": {
      "name": "ir",
      "display_name": "R"
    },
    "language_info": {
      "name": "R"
    }
  },
  "cells": [
    {
      "cell_type": "code",
      "metadata": {
        "colab": {
          "base_uri": "https://localhost:8080/"
        },
        "id": "v-MQhTWIDCb7",
        "outputId": "3d869e18-5f50-45a4-d930-fb64f51c6650"
      },
      "source": [
        "library(devtools)\n",
        "install_github(\"xnie/rlearner\")"
      ],
      "execution_count": 1,
      "outputs": [
        {
          "output_type": "stream",
          "text": [
            "Loading required package: usethis\n",
            "\n",
            "Downloading GitHub repo xnie/rlearner@HEAD\n",
            "\n"
          ],
          "name": "stderr"
        },
        {
          "output_type": "stream",
          "text": [
            "plyr         (NA -> 1.8.6     ) [CRAN]\n",
            "SQUAREM      (NA -> 2021.1    ) [CRAN]\n",
            "numDeriv     (NA -> 2016.8-1.1) [CRAN]\n",
            "lava         (NA -> 1.6.9     ) [CRAN]\n",
            "prodlim      (NA -> 2019.11.13) [CRAN]\n",
            "timeDate     (NA -> 3043.102  ) [CRAN]\n",
            "ipred        (NA -> 0.9-11    ) [CRAN]\n",
            "gower        (NA -> 0.2.2     ) [CRAN]\n",
            "data.table   (NA -> 1.14.0    ) [CRAN]\n",
            "iterators    (NA -> 1.0.13    ) [CRAN]\n",
            "pROC         (NA -> 1.17.0.1  ) [CRAN]\n",
            "recipes      (NA -> 0.1.15    ) [CRAN]\n",
            "reshape2     (NA -> 1.4.4     ) [CRAN]\n",
            "ModelMetrics (NA -> 1.2.2.2   ) [CRAN]\n",
            "foreach      (NA -> 1.5.1     ) [CRAN]\n",
            "shape        (NA -> 1.4.5     ) [CRAN]\n",
            "caret        (NA -> 6.0-86    ) [CRAN]\n",
            "glmnet       (NA -> 4.1-1     ) [CRAN]\n",
            "xgboost      (NA -> 1.3.2.1   ) [CRAN]\n"
          ],
          "name": "stdout"
        },
        {
          "output_type": "stream",
          "text": [
            "Installing 19 packages: plyr, SQUAREM, numDeriv, lava, prodlim, timeDate, ipred, gower, data.table, iterators, pROC, recipes, reshape2, ModelMetrics, foreach, shape, caret, glmnet, xgboost\n",
            "\n",
            "Installing packages into ‘/usr/local/lib/R/site-library’\n",
            "(as ‘lib’ is unspecified)\n",
            "\n"
          ],
          "name": "stderr"
        },
        {
          "output_type": "stream",
          "text": [
            "\u001b[32m✔\u001b[39m  \u001b[90mchecking for file ‘/tmp/RtmpAUNWa1/remotes4911624fe/xnie-rlearner-02e36ce/DESCRIPTION’\u001b[39m\u001b[36m\u001b[39m\n",
            "\u001b[90m─\u001b[39m\u001b[90m  \u001b[39m\u001b[90mpreparing ‘rlearner’:\u001b[39m\u001b[36m\u001b[39m\n",
            "\u001b[32m✔\u001b[39m  \u001b[90mchecking DESCRIPTION meta-information\u001b[39m\u001b[36m\u001b[39m\n",
            "\u001b[90m─\u001b[39m\u001b[90m  \u001b[39m\u001b[90mchecking for LF line-endings in source and make files and shell scripts\u001b[39m\u001b[36m\u001b[39m\n",
            "\u001b[90m─\u001b[39m\u001b[90m  \u001b[39m\u001b[90mchecking for empty or unneeded directories\u001b[39m\u001b[36m\u001b[39m\n",
            "\u001b[90m─\u001b[39m\u001b[90m  \u001b[39m\u001b[90mbuilding ‘rlearner_1.1.0.tar.gz’\u001b[39m\u001b[36m\u001b[39m\n",
            "   \n"
          ],
          "name": "stdout"
        },
        {
          "output_type": "stream",
          "text": [
            "Installing package into ‘/usr/local/lib/R/site-library’\n",
            "(as ‘lib’ is unspecified)\n",
            "\n"
          ],
          "name": "stderr"
        }
      ]
    },
    {
      "cell_type": "code",
      "metadata": {
        "id": "t8ZDWVCdDXQR"
      },
      "source": [
        "library(rlearner)"
      ],
      "execution_count": 2,
      "outputs": []
    },
    {
      "cell_type": "code",
      "metadata": {
        "id": "RkZa29OuEIZL"
      },
      "source": [
        "X <- read.csv(\"X_nt_normalised.csv\")\n",
        "X <- X[,2:46]\n",
        "X <- data.matrix(X)"
      ],
      "execution_count": 3,
      "outputs": []
    },
    {
      "cell_type": "code",
      "metadata": {
        "colab": {
          "base_uri": "https://localhost:8080/",
          "height": 34
        },
        "id": "RAkvDzXMEZVI",
        "outputId": "6928e3e4-bd68-45e6-b0ab-c8a637ff66fb"
      },
      "source": [
        "set.seed(0)\n",
        "start_time <- Sys.time()\n",
        "for (knob in 0:8){\n",
        "  for (dataset in 0:9){\n",
        "    name <- paste(\"dataset_\", as.character(knob), as.character(dataset), \".csv\", sep=\"\")\n",
        "    df <- read.csv(name)\n",
        "    y <- unlist(df[\"y\"])\n",
        "    D <- unlist(df[\"D\"])\n",
        "    rlasso_fit <- rlasso(X, D, y)\n",
        "    rlasso_est <- predict(rlasso_fit, X)\n",
        "    write.csv(rlasso_est, file=paste(\"knob_\", as.character(knob), \"_dataset_\", as.character(dataset), \".csv\", sep=\"\"))\n",
        "  }\n",
        "}\n",
        "end_time <- Sys.time()\n",
        "end_time - start_time"
      ],
      "execution_count": 32,
      "outputs": [
        {
          "output_type": "display_data",
          "data": {
            "text/plain": [
              "Time difference of 36.66541 mins"
            ]
          },
          "metadata": {
            "tags": []
          }
        }
      ]
    },
    {
      "cell_type": "code",
      "metadata": {
        "id": "N_4C743orCJM"
      },
      "source": [
        ""
      ],
      "execution_count": null,
      "outputs": []
    }
  ]
}